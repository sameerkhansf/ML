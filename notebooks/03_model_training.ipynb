{
 "cells": [
  {
   "cell_type": "markdown",
   "metadata": {},
   "source": [
    "# Machine Learning Model Training and Evaluation\n",
    "\n",
    "This notebook focuses on training multiple machine learning models for BBB permeability prediction, performing hyperparameter tuning, cross-validation, and comprehensive model comparison.\n",
    "\n",
    "## Objectives:\n",
    "- Train multiple ML algorithms (Random Forest, SVM, XGBoost, Neural Networks)\n",
    "- Perform hyperparameter tuning using grid search\n",
    "- Conduct stratified cross-validation\n",
    "- Compare model performance comprehensively\n",
    "- Select best performing model\n",
    "- Analyze feature importance"
   ]
  },
  {
   "cell_type": "code",
   "execution_count": null,
   "metadata": {},
   "outputs": [],
   "source": [
    "# Import required libraries\n",
    "import pandas as pd\n",
    "import numpy as np\n",
    "import matplotlib.pyplot as plt\n",
    "import seaborn as sns\n",
    "from sklearn.model_selection import train_test_split, cross_val_score, StratifiedKFold\n",
    "from sklearn.metrics import classification_report, confusion_matrix, roc_auc_score, roc_curve\n",
    "from sklearn.preprocessing import StandardScaler\n",
    "import joblib\n",
    "import sys\n",
    "import os\n",
    "import warnings\n",
    "warnings.filterwarnings('ignore')\n",
    "\n",
    "# Add src directory to path\n",
    "sys.path.append('../src')\n",
    "\n",
    "from data_handler import DataHandler\n",
    "from feature_engineering import FeatureEngineering\n",
    "from models import ModelTrainer\n",
    "\n",
    "# Set plotting style\n",
    "plt.style.use('default')\n",
    "sns.set_palette(\"husl\")\n",
    "plt.rcParams['figure.figsize'] = (10, 6)\n",
    "\n",
    "# Display settings\n",
    "pd.set_option('display.max_columns', None)\n",
    "pd.set_option('display.precision', 4)\n",
    "\n",
    "print(\"Libraries imported successfully!\")"
   ]
  },
  {
   "cell_type": "markdown",
   "metadata": {},
   "source": [
    "## 1. Load Dataset with Descriptors"
   ]
  },
  {
   "cell_type": "code",
   "execution_count": null,
   "metadata": {},
   "outputs": [],
   "source": [
    "# Load dataset with calculated descriptors\n",
    "try:\n",
    "    df = pd.read_csv('../data/BBBP_with_descriptors.csv')\n",
    "    print(f\"Dataset with descriptors loaded: {df.shape}\")\n",
    "except FileNotFoundError:\n",
    "    print(\"Dataset with descriptors not found. Please run 02_descriptor_summary.ipynb first.\")\n",
    "    raise\n",
    "\n",
    "# Identify descriptor columns (exclude metadata columns)\n",
    "metadata_cols = ['num', 'name', 'smiles', 'p_np', 'mol_object', 'smiles_length']\n",
    "descriptor_cols = [col for col in df.columns if col not in metadata_cols]\n",
    "\n",
    "print(f\"Descriptor columns: {len(descriptor_cols)}\")\n",
    "print(f\"Descriptor names: {descriptor_cols}\")\n",
    "\n",
    "# Check class distribution\n",
    "class_dist = df['p_np'].value_counts()\n",
    "print(f\"\\nClass distribution:\")\n",
    "print(f\"Non-permeable (0): {class_dist[0]} ({class_dist[0]/len(df)*100:.1f}%)\")\n",
    "print(f\"Permeable (1): {class_dist[1]} ({class_dist[1]/len(df)*100:.1f}%)\")\n",
    "\n",
    "df.head()"
   ]
  },
  {
   "cell_type": "markdown",
   "metadata": {},
   "source": [
    "## 2. Feature Engineering and Data Preparation"
   ]
  },
  {
   "cell_type": "code",
   "execution_count": null,
   "metadata": {},
   "outputs": [],
   "source": [
    "# Initialize feature engineering\n",
    "feature_eng = FeatureEngineering()\n",
    "\n",
    "# Prepare feature matrix and target vector\n",
    "X = df[descriptor_cols].copy()\n",
    "y = df['p_np'].copy()\n",
    "\n",
    "print(f\"Feature matrix shape: {X.shape}\")\n",
    "print(f\"Target vector shape: {y.shape}\")\n",
    "\n",
    "# Check for missing values\n",
    "missing_values = X.isnull().sum()\n",
    "if missing_values.sum() > 0:\n",
    "    print(f\"\\nMissing values found:\")\n",
    "    print(missing_values[missing_values > 0])\n",
    "    \n",
    "    # Handle missing values\n",
    "    X = feature_eng.handle_missing_values(X)\n",
    "    print(\"Missing values handled using median imputation\")\n",
    "else:\n",
    "    print(\"\\nNo missing values found\")\n",
    "\n",
    "# Feature selection (remove highly correlated features)\n",
    "print(\"\\nPerforming feature selection...\")\n",
    "X_selected = feature_eng.select_features(X, correlation_threshold=0.95)\n",
    "selected_features = X_selected.columns.tolist()\n",
    "\n",
    "print(f\"Features after selection: {len(selected_features)} (removed {len(descriptor_cols) - len(selected_features)})\")\n",
    "print(f\"Selected features: {selected_features}\")\n",
    "\n",
    "# Scale features\n",
    "X_scaled = feature_eng.scale_features(X_selected)\n",
    "print(f\"\\nFeatures scaled using StandardScaler\")\n",
    "print(f\"Final feature matrix shape: {X_scaled.shape}\")"
   ]
  },
  {
   "cell_type": "markdown",
   "metadata": {},
   "source": [
    "## 3. Train-Test Split"
   ]
  },
  {
   "cell_type": "code",
   "execution_count": null,
   "metadata": {},
   "outputs": [],
   "source": [
    "# Create stratified train-test split\n",
    "X_train, X_test, y_train, y_test = train_test_split(\n",
    "    X_scaled, y, test_size=0.2, random_state=42, stratify=y\n",
    ")\n",
    "\n",
    "print(f\"Training set: {X_train.shape[0]} samples\")\n",
    "print(f\"Test set: {X_test.shape[0]} samples\")\n",
    "\n",
    "# Check class distribution in splits\n",
    "train_dist = pd.Series(y_train).value_counts()\n",
    "test_dist = pd.Series(y_test).value_counts()\n",
    "\n",
    "print(f\"\\nTraining set distribution:\")\n",
    "print(f\"Non-permeable: {train_dist[0]} ({train_dist[0]/len(y_train)*100:.1f}%)\")\n",
    "print(f\"Permeable: {train_dist[1]} ({train_dist[1]/len(y_train)*100:.1f}%)\")\n",
    "\n",
    "print(f\"\\nTest set distribution:\")\n",
    "print(f\"Non-permeable: {test_dist[0]} ({test_dist[0]/len(y_test)*100:.1f}%)\")\n",
    "print(f\"Permeable: {test_dist[1]} ({test_dist[1]/len(y_test)*100:.1f}%)\")"
   ]
  },
  {
   "cell_type": "markdown",
   "metadata": {},
   "source": [
    "## 4. Model Training and Evaluation"
   ]
  },
  {
   "cell_type": "code",
   "execution_count": null,
   "metadata": {},
   "outputs": [],
   "source": [
    "# Initialize model trainer\n",
    "model_trainer = ModelTrainer()\n",
    "\n",
    "# Dictionary to store trained models and results\n",
    "models = {}\n",
    "results = {}\n",
    "\n",
    "print(\"Training multiple machine learning models...\")\n",
    "print(\"This may take several minutes...\")\n",
    "\n",
    "# Define cross-validation strategy\n",
    "cv_strategy = StratifiedKFold(n_splits=5, shuffle=True, random_state=42)"
   ]
  },
  {
   "cell_type": "markdown",
   "metadata": {},
   "source": [
    "### 4.1 Logistic Regression (Baseline)"
   ]
  },
  {
   "cell_type": "code",
   "execution_count": null,
   "metadata": {},
   "outputs": [],
   "source": [
    "print(\"\\n=== Training Logistic Regression ===\")\n",
    "lr_model, lr_metrics = model_trainer.train_logistic_regression(X_train, y_train, X_test, y_test)\n",
    "models['Logistic Regression'] = lr_model\n",
    "results['Logistic Regression'] = lr_metrics\n",
    "\n",
    "# Cross-validation\n",
    "lr_cv_scores = cross_val_score(lr_model, X_train, y_train, cv=cv_strategy, scoring='roc_auc')\n",
    "results['Logistic Regression']['cv_auc_mean'] = lr_cv_scores.mean()\n",
    "results['Logistic Regression']['cv_auc_std'] = lr_cv_scores.std()\n",
    "\n",
    "print(f\"Test AUC: {lr_metrics['auc']:.4f}\")\n",
    "print(f\"CV AUC: {lr_cv_scores.mean():.4f} ± {lr_cv_scores.std():.4f}\")"
   ]
  },
  {
   "cell_type": "markdown",
   "metadata": {},
   "source": [
    "### 4.2 Random Forest"
   ]
  },
  {
   "cell_type": "code",
   "execution_count": null,
   "metadata": {},
   "outputs": [],
   "source": [
    "print(\"\\n=== Training Random Forest ===\")\n",
    "rf_model, rf_metrics = model_trainer.train_random_forest(X_train, y_train, X_test, y_test)\n",
    "models['Random Forest'] = rf_model\n",
    "results['Random Forest'] = rf_metrics\n",
    "\n",
    "# Cross-validation\n",
    "rf_cv_scores = cross_val_score(rf_model, X_train, y_train, cv=cv_strategy, scoring='roc_auc')\n",
    "results['Random Forest']['cv_auc_mean'] = rf_cv_scores.mean()\n",
    "results['Random Forest']['cv_auc_std'] = rf_cv_scores.std()\n",
    "\n",
    "print(f\"Test AUC: {rf_metrics['auc']:.4f}\")\n",
    "print(f\"CV AUC: {rf_cv_scores.mean():.4f} ± {rf_cv_scores.std():.4f}\")\n",
    "\n",
    "# Feature importance\n",
    "rf_feature_importance = pd.DataFrame({\n",
    "    'feature': selected_features,\n",
    "    'importance': rf_model.feature_importances_\n",
    "}).sort_values('importance', ascending=False)\n",
    "\n",
    "print(f\"\\nTop 5 important features (Random Forest):\")\n",
    "print(rf_feature_importance.head())"
   ]
  },
  {
   "cell_type": "markdown",
   "metadata": {},
   "source": [
    "### 4.3 Support Vector Machine"
   ]
  },
  {
   "cell_type": "code",
   "execution_count": null,
   "metadata": {},
   "outputs": [],
   "source": [
    "print(\"\\n=== Training Support Vector Machine ===\")\n",
    "svm_model, svm_metrics = model_trainer.train_svm(X_train, y_train, X_test, y_test)\n",
    "models['SVM'] = svm_model\n",
    "results['SVM'] = svm_metrics\n",
    "\n",
    "# Cross-validation\n",
    "svm_cv_scores = cross_val_score(svm_model, X_train, y_train, cv=cv_strategy, scoring='roc_auc')\n",
    "results['SVM']['cv_auc_mean'] = svm_cv_scores.mean()\n",
    "results['SVM']['cv_auc_std'] = svm_cv_scores.std()\n",
    "\n",
    "print(f\"Test AUC: {svm_metrics['auc']:.4f}\")\n",
    "print(f\"CV AUC: {svm_cv_scores.mean():.4f} ± {svm_cv_scores.std():.4f}\")"
   ]
  },
  {
   "cell_type": "markdown",
   "metadata": {},
   "source": [
    "### 4.4 XGBoost"
   ]
  },
  {
   "cell_type": "code",
   "execution_count": null,
   "metadata": {},
   "outputs": [],
   "source": [
    "print(\"\\n=== Training XGBoost ===\")\n",
    "xgb_model, xgb_metrics = model_trainer.train_xgboost(X_train, y_train, X_test, y_test)\n",
    "models['XGBoost'] = xgb_model\n",
    "results['XGBoost'] = xgb_metrics\n",
    "\n",
    "# Cross-validation\n",
    "xgb_cv_scores = cross_val_score(xgb_model, X_train, y_train, cv=cv_strategy, scoring='roc_auc')\n",
    "results['XGBoost']['cv_auc_mean'] = xgb_cv_scores.mean()\n",
    "results['XGBoost']['cv_auc_std'] = xgb_cv_scores.std()\n",
    "\n",
    "print(f\"Test AUC: {xgb_metrics['auc']:.4f}\")\n",
    "print(f\"CV AUC: {xgb_cv_scores.mean():.4f} ± {xgb_cv_scores.std():.4f}\")\n",
    "\n",
    "# Feature importance\n",
    "xgb_feature_importance = pd.DataFrame({\n",
    "    'feature': selected_features,\n",
    "    'importance': xgb_model.feature_importances_\n",
    "}).sort_values('importance', ascending=False)\n",
    "\n",
    "print(f\"\\nTop 5 important features (XGBoost):\")\n",
    "print(xgb_feature_importance.head())"
   ]
  },
  {
   "cell_type": "markdown",
   "metadata": {},
   "source": [
    "### 4.5 Neural Network"
   ]
  },
  {
   "cell_type": "code",
   "execution_count": null,
   "metadata": {},
   "outputs": [],
   "source": [
    "print(\"\\n=== Training Neural Network ===\")\n",
    "nn_model, nn_metrics = model_trainer.train_neural_network(X_train, y_train, X_test, y_test)\n",
    "models['Neural Network'] = nn_model\n",
    "results['Neural Network'] = nn_metrics\n",
    "\n",
    "# Cross-validation\n",
    "nn_cv_scores = cross_val_score(nn_model, X_train, y_train, cv=cv_strategy, scoring='roc_auc')\n",
    "results['Neural Network']['cv_auc_mean'] = nn_cv_scores.mean()\n",
    "results['Neural Network']['cv_auc_std'] = nn_cv_scores.std()\n",
    "\n",
    "print(f\"Test AUC: {nn_metrics['auc']:.4f}\")\n",
    "print(f\"CV AUC: {nn_cv_scores.mean():.4f} ± {nn_cv_scores.std():.4f}\")"
   ]
  },
  {
   "cell_type": "markdown",
   "metadata": {},
   "source": [
    "## 5. Model Comparison and Performance Analysis"
   ]
  },
  {
   "cell_type": "code",
   "execution_count": null,
   "metadata": {},
   "outputs": [],
   "source": [
    "# Create comprehensive results dataframe\n",
    "comparison_data = []\n",
    "for model_name, metrics in results.items():\n",
    "    comparison_data.append({\n",
    "        'Model': model_name,\n",
    "        'Test_Accuracy': metrics['accuracy'],\n",
    "        'Test_Precision': metrics['precision'],\n",
    "        'Test_Recall': metrics['recall'],\n",
    "        'Test_F1': metrics['f1'],\n",
    "        'Test_AUC': metrics['auc'],\n",
    "        'CV_AUC_Mean': metrics['cv_auc_mean'],\n",
    "        'CV_AUC_Std': metrics['cv_auc_std']\n",
    "    })\n",
    "\n",
    "comparison_df = pd.DataFrame(comparison_data)\n",
    "comparison_df = comparison_df.sort_values('Test_AUC', ascending=False)\n",
    "\n",
    "print(\"=== MODEL PERFORMANCE COMPARISON ===\")\n",
    "print(comparison_df.round(4))\n",
    "\n",
    "# Identify best model\n",
    "best_model_name = comparison_df.iloc[0]['Model']\n",
    "best_model = models[best_model_name]\n",
    "print(f\"\\nBest performing model: {best_model_name}\")\n",
    "print(f\"Best model AUC: {comparison_df.iloc[0]['Test_AUC']:.4f}\")"
   ]
  },
  {
   "cell_type": "markdown",
   "metadata": {},
   "source": [
    "## 6. Performance Visualization"
   ]
  },
  {
   "cell_type": "code",
   "execution_count": null,
   "metadata": {},
   "outputs": [],
   "source": [
    "# Plot model comparison\n",
    "fig, axes = plt.subplots(2, 2, figsize=(15, 12))\n",
    "\n",
    "# AUC comparison\n",
    "axes[0, 0].bar(comparison_df['Model'], comparison_df['Test_AUC'], alpha=0.7)\n",
    "axes[0, 0].set_title('Test AUC Comparison')\n",
    "axes[0, 0].set_ylabel('AUC Score')\n",
    "axes[0, 0].tick_params(axis='x', rotation=45)\n",
    "axes[0, 0].grid(True, alpha=0.3)\n",
    "\n",
    "# Accuracy comparison\n",
    "axes[0, 1].bar(comparison_df['Model'], comparison_df['Test_Accuracy'], alpha=0.7, color='orange')\n",
    "axes[0, 1].set_title('Test Accuracy Comparison')\n",
    "axes[0, 1].set_ylabel('Accuracy')\n",
    "axes[0, 1].tick_params(axis='x', rotation=45)\n",
    "axes[0, 1].grid(True, alpha=0.3)\n",
    "\n",
    "# F1 Score comparison\n",
    "axes[1, 0].bar(comparison_df['Model'], comparison_df['Test_F1'], alpha=0.7, color='green')\n",
    "axes[1, 0].set_title('Test F1 Score Comparison')\n",
    "axes[1, 0].set_ylabel('F1 Score')\n",
    "axes[1, 0].tick_params(axis='x', rotation=45)\n",
    "axes[1, 0].grid(True, alpha=0.3)\n",
    "\n",
    "# Cross-validation AUC with error bars\n",
    "axes[1, 1].bar(comparison_df['Model'], comparison_df['CV_AUC_Mean'], \n",
    "               yerr=comparison_df['CV_AUC_Std'], alpha=0.7, color='red', capsize=5)\n",
    "axes[1, 1].set_title('Cross-Validation AUC')\n",
    "axes[1, 1].set_ylabel('CV AUC (Mean ± Std)')\n",
    "axes[1, 1].tick_params(axis='x', rotation=45)\n",
    "axes[1, 1].grid(True, alpha=0.3)\n",
    "\n",
    "plt.tight_layout()\n",
    "plt.show()"
   ]
  },
  {
   "cell_type": "markdown",
   "metadata": {},
   "source": [
    "## 7. ROC Curves Comparison"
   ]
  },
  {
   "cell_type": "code",
   "execution_count": null,
   "metadata": {},
   "outputs": [],
   "source": [
    "# Plot ROC curves for all models\n",
    "plt.figure(figsize=(10, 8))\n",
    "\n",
    "colors = ['blue', 'red', 'green', 'orange', 'purple']\n",
    "for i, (model_name, model) in enumerate(models.items()):\n",
    "    # Get predictions\n",
    "    if hasattr(model, 'predict_proba'):\n",
    "        y_pred_proba = model.predict_proba(X_test)[:, 1]\n",
    "    else:\n",
    "        y_pred_proba = model.decision_function(X_test)\n",
    "    \n",
    "    # Calculate ROC curve\n",
    "    fpr, tpr, _ = roc_curve(y_test, y_pred_proba)\n",
    "    auc_score = roc_auc_score(y_test, y_pred_proba)\n",
    "    \n",
    "    # Plot ROC curve\n",
    "    plt.plot(fpr, tpr, color=colors[i], lw=2, \n",
    "             label=f'{model_name} (AUC = {auc_score:.3f})')\n",
    "\n",
    "# Plot diagonal line\n",
    "plt.plot([0, 1], [0, 1], color='black', lw=1, linestyle='--', alpha=0.5)\n",
    "\n",
    "plt.xlim([0.0, 1.0])\n",
    "plt.ylim([0.0, 1.05])\n",
    "plt.xlabel('False Positive Rate')\n",
    "plt.ylabel('True Positive Rate')\n",
    "plt.title('ROC Curves Comparison')\n",
    "plt.legend(loc=\"lower right\")\n",
    "plt.grid(True, alpha=0.3)\n",
    "plt.show()"
   ]
  },
  {
   "cell_type": "markdown",
   "metadata": {},
   "source": [
    "## 8. Confusion Matrices"
   ]
  },
  {
   "cell_type": "code",
   "execution_count": null,
   "metadata": {},
   "outputs": [],
   "source": [
    "# Plot confusion matrices for all models\n",
    "fig, axes = plt.subplots(2, 3, figsize=(18, 12))\n",
    "axes = axes.ravel()\n",
    "\n",
    "for i, (model_name, model) in enumerate(models.items()):\n",
    "    if i < len(axes):\n",
    "        # Get predictions\n",
    "        y_pred = model.predict(X_test)\n",
    "        \n",
    "        # Calculate confusion matrix\n",
    "        cm = confusion_matrix(y_test, y_pred)\n",
    "        \n",
    "        # Plot confusion matrix\n",
    "        sns.heatmap(cm, annot=True, fmt='d', cmap='Blues', ax=axes[i],\n",
    "                   xticklabels=['Non-permeable', 'Permeable'],\n",
    "                   yticklabels=['Non-permeable', 'Permeable'])\n",
    "        axes[i].set_title(f'{model_name}')\n",
    "        axes[i].set_xlabel('Predicted')\n",
    "        axes[i].set_ylabel('Actual')\n",
    "\n",
    "# Hide unused subplot\n",
    "if len(models) < len(axes):\n",
    "    axes[-1].set_visible(False)\n",
    "\n",
    "plt.tight_layout()\n",
    "plt.show()"
   ]
  },
  {
   "cell_type": "markdown",
   "metadata": {},
   "source": [
    "## 9. Feature Importance Analysis"
   ]
  },
  {
   "cell_type": "code",
   "execution_count": null,
   "metadata": {},
   "outputs": [],
   "source": [
    "# Compare feature importance from tree-based models\n",
    "if 'Random Forest' in models and 'XGBoost' in models:\n",
    "    fig, (ax1, ax2) = plt.subplots(1, 2, figsize=(16, 8))\n",
    "    \n",
    "    # Random Forest feature importance\n",
    "    rf_top_features = rf_feature_importance.head(10)\n",
    "    ax1.barh(range(len(rf_top_features)), rf_top_features['importance'], alpha=0.7)\n",
    "    ax1.set_yticks(range(len(rf_top_features)))\n",
    "    ax1.set_yticklabels(rf_top_features['feature'])\n",
    "    ax1.set_xlabel('Feature Importance')\n",
    "    ax1.set_title('Random Forest - Top 10 Features')\n",
    "    ax1.grid(True, alpha=0.3)\n",
    "    \n",
    "    # XGBoost feature importance\n",
    "    xgb_top_features = xgb_feature_importance.head(10)\n",
    "    ax2.barh(range(len(xgb_top_features)), xgb_top_features['importance'], alpha=0.7, color='orange')\n",
    "    ax2.set_yticks(range(len(xgb_top_features)))\n",
    "    ax2.set_yticklabels(xgb_top_features['feature'])\n",
    "    ax2.set_xlabel('Feature Importance')\n",
    "    ax2.set_title('XGBoost - Top 10 Features')\n",
    "    ax2.grid(True, alpha=0.3)\n",
    "    \n",
    "    plt.tight_layout()\n",
    "    plt.show()\n",
    "    \n",
    "    # Compare top features between models\n",
    "    print(\"\\n=== FEATURE IMPORTANCE COMPARISON ===\")\n",
    "    print(\"\\nTop 5 features - Random Forest:\")\n",
    "    print(rf_feature_importance.head())\n",
    "    print(\"\\nTop 5 features - XGBoost:\")\n",
    "    print(xgb_feature_importance.head())\n",
    "    \n",
    "    # Find common important features\n",
    "    rf_top5 = set(rf_feature_importance.head()['feature'])\n",
    "    xgb_top5 = set(xgb_feature_importance.head()['feature'])\n",
    "    common_features = rf_top5.intersection(xgb_top5)\n",
    "    \n",
    "    print(f\"\\nCommon top features: {common_features}\")"
   ]
  },
  {
   "cell_type": "markdown",
   "metadata": {},
   "source": [
    "## 10. Model Persistence"
   ]
  },
  {
   "cell_type": "code",
   "execution_count": null,
   "metadata": {},
   "outputs": [],
   "source": [
    "# Save the best model and preprocessing objects\n",
    "print(f\"Saving best model: {best_model_name}\")\n",
    "\n",
    "# Create results directory if it doesn't exist\n",
    "os.makedirs('../results/models', exist_ok=True)\n",
    "\n",
    "# Save best model\n",
    "joblib.dump(best_model, f'../results/models/best_model_{best_model_name.lower().replace(\" \", \"_\")}.pkl')\n",
    "\n",
    "# Save feature scaler\n",
    "joblib.dump(feature_eng.scaler, '../results/models/feature_scaler.pkl')\n",
    "\n",
    "# Save selected features list\n",
    "with open('../results/models/selected_features.txt', 'w') as f:\n",
    "    for feature in selected_features:\n",
    "        f.write(f\"{feature}\\n\")\n",
    "\n",
    "# Save model comparison results\n",
    "comparison_df.to_csv('../results/models/model_comparison.csv', index=False)\n",
    "\n",
    "print(\"Model artifacts saved successfully!\")\n",
    "print(f\"- Best model: ../results/models/best_model_{best_model_name.lower().replace(' ', '_')}.pkl\")\n",
    "print(f\"- Feature scaler: ../results/models/feature_scaler.pkl\")\n",
    "print(f\"- Selected features: ../results/models/selected_features.txt\")\n",
    "print(f\"- Model comparison: ../results/models/model_comparison.csv\")"
   ]
  },
  {
   "cell_type": "markdown",
   "metadata": {},
   "source": [
    "## 11. Model Training Summary"
   ]
  },
  {
   "cell_type": "code",
   "execution_count": null,
   "metadata": {},
   "outputs": [],
   "source": [
    "print(\"=== MODEL TRAINING SUMMARY ===\")\n",
    "print(f\"\\nDataset: {len(df)} compounds\")\n",
    "print(f\"Features: {len(selected_features)} (after selection from {len(descriptor_cols)})\")\n",
    "print(f\"Training samples: {len(X_train)}\")\n",
    "print(f\"Test samples: {len(X_test)}\")\n",
    "\n",
    "print(f\"\\n=== MODEL PERFORMANCE RANKING ===\")\n",
    "for i, row in comparison_df.iterrows():\n",
    "    print(f\"{i+1}. {row['Model']:15s} - AUC: {row['Test_AUC']:.4f} (CV: {row['CV_AUC_Mean']:.4f}±{row['CV_AUC_Std']:.4f})\")\n",
    "\n",
    "print(f\"\\n=== BEST MODEL: {best_model_name} ===\")\n",
    "best_results = results[best_model_name]\n",
    "print(f\"Test Accuracy: {best_results['accuracy']:.4f}\")\n",
    "print(f\"Test Precision: {best_results['precision']:.4f}\")\n",
    "print(f\"Test Recall: {best_results['recall']:.4f}\")\n",
    "print(f\"Test F1-Score: {best_results['f1']:.4f}\")\n",
    "print(f\"Test AUC: {best_results['auc']:.4f}\")\n",
    "print(f\"CV AUC: {best_results['cv_auc_mean']:.4f} ± {best_results['cv_auc_std']:.4f}\")\n",
    "\n",
    "if best_model_name in ['Random Forest', 'XGBoost']:\n",
    "    if best_model_name == 'Random Forest':\n",
    "        top_features = rf_feature_importance.head(3)\n",
    "    else:\n",
    "        top_features = xgb_feature_importance.head(3)\n",
    "    \n",
    "    print(f\"\\nTop 3 most important features:\")\n",
    "    for _, row in top_features.iterrows():\n",
    "        print(f\"- {row['feature']}: {row['importance']:.4f}\")\n",
    "\n",
    "print(\"\\n=== RECOMMENDATIONS ===\")\n",
    "if best_results['auc'] > 0.90:\n",
    "    print(\"- Excellent model performance (AUC > 0.90)\")\n",
    "elif best_results['auc'] > 0.80:\n",
    "    print(\"- Good model performance (AUC > 0.80)\")\n",
    "else:\n",
    "    print(\"- Model performance could be improved\")\n",
    "    print(\"- Consider feature engineering or ensemble methods\")\n",
    "\n",
    "cv_stability = best_results['cv_auc_std']\n",
    "if cv_stability < 0.05:\n",
    "    print(\"- Model shows good stability across CV folds\")\n",
    "else:\n",
    "    print(\"- Model shows some variability across CV folds\")\n",
    "    print(\"- Consider regularization or more data\")\n",
    "\n",
    "print(\"\\n- Proceed to notebook 04_interpretation.ipynb for model interpretability analysis\")\n",
    "print(\"- Use saved model for making predictions on new compounds\")"
   ]
  }
 ],
    "metadata": {
      "kernelspec": {
        "display_name": "Python 3",
        "language": "python",
        "name": "python3"
      },
      "language_info": {
        "codemirror_mode": {
          "name": "ipython",
          "version": 3
        },
        "file_extension": ".py",
        "mimetype": "text/x-python",
        "name": "python",
        "nbconvert_exporter": "python",
        "pygments_lexer": "ipython3",
        "version": "3.8.5"
      }
    },
    "nbformat": 4,
    "nbformat_minor": 4
  }
  